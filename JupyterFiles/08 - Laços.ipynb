{
 "cells": [
  {
   "cell_type": "code",
   "execution_count": 3,
   "metadata": {},
   "outputs": [
    {
     "name": "stdout",
     "output_type": "stream",
     "text": [
      "0\n",
      "1\n",
      "2\n",
      "3\n",
      "4\n",
      "5\n",
      "6\n",
      "7\n",
      "8\n",
      "9\n",
      "10\n",
      "11\n",
      "12\n",
      "13\n",
      "14\n",
      "Loop finalizado\n"
     ]
    }
   ],
   "source": [
    "contador = 0\n",
    "\n",
    "while contador < 15:\n",
    "    print(contador)\n",
    "    contador = contador + 1\n",
    "else :\n",
    "    print(\"Loop finalizado\")"
   ]
  },
  {
   "cell_type": "code",
   "execution_count": 6,
   "metadata": {},
   "outputs": [],
   "source": [
    "lista = ['Data Science', 'Estatística', 'Big Data', 'Machine Learning']"
   ]
  },
  {
   "cell_type": "code",
   "execution_count": 7,
   "metadata": {},
   "outputs": [
    {
     "name": "stdout",
     "output_type": "stream",
     "text": [
      "Data Science\n",
      "Estatística\n",
      "Big Data\n",
      "Machine Learning\n"
     ]
    }
   ],
   "source": [
    "for i in lista:\n",
    "    print(i)"
   ]
  },
  {
   "cell_type": "code",
   "execution_count": null,
   "metadata": {},
   "outputs": [],
   "source": [
    "lista = []\n"
   ]
  },
  {
   "cell_type": "code",
   "execution_count": null,
   "metadata": {},
   "outputs": [],
   "source": [
    "for variavel in 'Data Science'\n",
    "    lista.append(variavel)"
   ]
  },
  {
   "cell_type": "code",
   "execution_count": null,
   "metadata": {},
   "outputs": [],
   "source": [
    "print(lista)"
   ]
  },
  {
   "cell_type": "code",
   "execution_count": 8,
   "metadata": {},
   "outputs": [],
   "source": [
    "lista = [1,2,3,4,5,6,7,8,9,10]"
   ]
  },
  {
   "cell_type": "code",
   "execution_count": 10,
   "metadata": {},
   "outputs": [
    {
     "name": "stdout",
     "output_type": "stream",
     "text": [
      "2\n",
      "4\n",
      "6\n",
      "8\n",
      "10\n"
     ]
    }
   ],
   "source": [
    "for i in lista:\n",
    "    if i % 2 == 0:\n",
    "        print(i)"
   ]
  },
  {
   "cell_type": "code",
   "execution_count": 18,
   "metadata": {},
   "outputs": [],
   "source": [
    "Rio_de_Janeiro = ['Flamengo', 'Fluminense', 'Botafogo', 'Vasco']\n",
    "Sao_Paulo       = ['Santos', 'Saao Paulo', 'Palmeiras', 'Corinthians']"
   ]
  },
  {
   "cell_type": "code",
   "execution_count": 20,
   "metadata": {},
   "outputs": [
    {
     "data": {
      "text/plain": [
       "['Santos',\n",
       " 'Saao Paulo',\n",
       " 'Palmeiras',\n",
       " 'Corinthians',\n",
       " 'Flamengo',\n",
       " 'Fluminense',\n",
       " 'Botafogo',\n",
       " 'Vasco',\n",
       " 'Flamengo',\n",
       " 'Fluminense',\n",
       " 'Botafogo',\n",
       " 'Vasco']"
      ]
     },
     "execution_count": 20,
     "metadata": {},
     "output_type": "execute_result"
    }
   ],
   "source": [
    "for time in Rio_de_Janeiro:\n",
    "    Sao_Paulo.append(time)\n",
    "    \n",
    "Sao_Paulo"
   ]
  },
  {
   "cell_type": "code",
   "execution_count": 21,
   "metadata": {},
   "outputs": [
    {
     "name": "stdout",
     "output_type": "stream",
     "text": [
      "1\n",
      "2\n",
      "3\n",
      "4\n",
      "5\n",
      "6\n",
      "7\n",
      "8\n",
      "9\n"
     ]
    }
   ],
   "source": [
    "#Range\n",
    "for i in range (1,10):\n",
    "    print(i)"
   ]
  },
  {
   "cell_type": "code",
   "execution_count": 23,
   "metadata": {},
   "outputs": [
    {
     "name": "stdout",
     "output_type": "stream",
     "text": [
      "0\n",
      "3\n",
      "6\n",
      "9\n",
      "12\n",
      "15\n",
      "18\n",
      "21\n",
      "24\n",
      "27\n",
      "30\n",
      "33\n",
      "36\n",
      "39\n",
      "42\n",
      "45\n",
      "48\n"
     ]
    }
   ],
   "source": [
    "for i in range (0, 50, 3):\n",
    "    print(i)"
   ]
  },
  {
   "cell_type": "code",
   "execution_count": 24,
   "metadata": {},
   "outputs": [
    {
     "name": "stdout",
     "output_type": "stream",
     "text": [
      "A condição continua veradeira. I vale:0\n",
      "A condição continua veradeira. I vale:1\n",
      "A condição continua veradeira. I vale:2\n",
      "A condição continua veradeira. I vale:3\n",
      "A condição continua veradeira. I vale:4\n",
      "A condição continua veradeira. I vale:5\n",
      "A condição continua veradeira. I vale:6\n",
      "A condição continua veradeira. I vale:7\n",
      "A condição continua veradeira. I vale:8\n",
      "A condição continua veradeira. I vale:9\n",
      "A condição continua veradeira. I vale:10\n",
      "A condição continua veradeira. I vale:11\n",
      "A condição continua veradeira. I vale:12\n",
      "A condição continua veradeira. I vale:13\n",
      "A condição continua veradeira. I vale:14\n",
      "A condição continua veradeira. I vale:15\n",
      "A condição continua veradeira. I vale:16\n",
      "A condição continua veradeira. I vale:17\n",
      "A condição continua veradeira. I vale:18\n",
      "A condição continua veradeira. I vale:19\n"
     ]
    }
   ],
   "source": [
    "i = 0\n",
    "while True:\n",
    "    print('A condição continua veradeira. I vale:' + str(i))\n",
    "    i = i + 1 \n",
    "    \n",
    "    if i < 20:\n",
    "        pass\n",
    "    else:\n",
    "        break"
   ]
  }
 ],
 "metadata": {
  "kernelspec": {
   "display_name": "Python 3",
   "language": "python",
   "name": "python3"
  },
  "language_info": {
   "codemirror_mode": {
    "name": "ipython",
    "version": 3
   },
   "file_extension": ".py",
   "mimetype": "text/x-python",
   "name": "python",
   "nbconvert_exporter": "python",
   "pygments_lexer": "ipython3",
   "version": "3.7.1"
  }
 },
 "nbformat": 4,
 "nbformat_minor": 2
}
