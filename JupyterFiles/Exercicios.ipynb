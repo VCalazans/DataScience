{
 "cells": [
  {
   "cell_type": "code",
   "execution_count": 22,
   "metadata": {},
   "outputs": [
    {
     "name": "stdout",
     "output_type": "stream",
     "text": [
      "Dados de acesso do cliente Universidade dos Dados\n",
      "01/02/2017 \"600.62.00\"\n",
      "02/02/2017 \"6.088.00\"\n",
      "03/02/2017 \"645.00\"\n",
      "04/02/2017 \"10.876.00\"\n"
     ]
    }
   ],
   "source": [
    "expr = '''Dados de acesso do cliente Universidade dos Dados\n",
    "01/02/2017 \"600.62.00\"\n",
    "02/02/2017 \"6.088.00\"\n",
    "03/02/2017 \"645.00\"\n",
    "04/02/2017 \"10.876.00\"'''\n",
    "\n",
    "print(expr)"
   ]
  },
  {
   "cell_type": "code",
   "execution_count": 24,
   "metadata": {},
   "outputs": [
    {
     "name": "stdout",
     "output_type": "stream",
     "text": [
      "\n",
      "\n",
      " Primeiro valor de acesso : 600.62\n"
     ]
    }
   ],
   "source": [
    "valores = expr.split()\n",
    "valorAcesso = valores[9]\n",
    "print(\"\\n\\n Primeiro valor de acesso : \" + valorAcesso[ 1 : - 4])\n",
    "\n"
   ]
  }
 ],
 "metadata": {
  "kernelspec": {
   "display_name": "Python 3",
   "language": "python",
   "name": "python3"
  },
  "language_info": {
   "codemirror_mode": {
    "name": "ipython",
    "version": 3
   },
   "file_extension": ".py",
   "mimetype": "text/x-python",
   "name": "python",
   "nbconvert_exporter": "python",
   "pygments_lexer": "ipython3",
   "version": "3.7.1"
  }
 },
 "nbformat": 4,
 "nbformat_minor": 2
}
