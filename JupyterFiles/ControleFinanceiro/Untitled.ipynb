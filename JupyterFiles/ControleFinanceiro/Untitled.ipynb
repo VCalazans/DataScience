{
 "cells": [
  {
   "cell_type": "code",
   "execution_count": null,
   "metadata": {},
   "outputs": [],
   "source": [
    "#IDEIA CENTRAL:\n",
    "\n",
    "# MONTAR UM ARQUIVO, SEGUINDO UM LAYOUT. ONDE SERÁ ESPCIFICADO O TÍTULO DA DIVIDA, O VALOR DA DÍVIDA E A QUANTIDADE\n",
    "# DE PARCELAS.\n",
    "\n",
    "# LAYOUT : ITEM | QTD.PARCELAS | VLR.PARCELA |"
   ]
  },
  {
   "cell_type": "code",
   "execution_count": 8,
   "metadata": {},
   "outputs": [],
   "source": [
    "import os\n",
    "import pandas as pd"
   ]
  },
  {
   "cell_type": "code",
   "execution_count": 79,
   "metadata": {},
   "outputs": [],
   "source": [
    "with open('/home/vcalazans/JupyterFiles/ControleFinanceiro/contas.txt', 'w') as arq:\n",
    "    arq.write('Note book | 10 | 220.00 \\n')\n",
    "    arq.write('Creche | -1 | 200.00\\n')\n",
    "    arq.write('Casa | -1 | 100.00\\n')\n",
    "    arq.write('Udemy | 2 | 50.00\\n')\n",
    "    arq.write('Bolsa | 3 | 75.00\\n')\n",
    "    arq.write('Casa | -1 | 100.00\\n')\n",
    "    arq.write('Faculdade | -1 | 380.00\\n')\n",
    "    arq.write('Controle Ps4 | -1 | 28.00\\n')\n",
    "    arq.write('Man.Carro | 3 | 293.00\\n')\n",
    "    \n",
    "    "
   ]
  },
  {
   "cell_type": "code",
   "execution_count": 80,
   "metadata": {},
   "outputs": [],
   "source": [
    "colunas = ['Item', 'Qtd.Parcelas', 'Vlr.Parcelas']\n",
    "contas = pd.read_table('contas.txt', sep = '|', header = None, names = colunas)"
   ]
  },
  {
   "cell_type": "code",
   "execution_count": 81,
   "metadata": {},
   "outputs": [
    {
     "data": {
      "text/html": [
       "<div>\n",
       "<style scoped>\n",
       "    .dataframe tbody tr th:only-of-type {\n",
       "        vertical-align: middle;\n",
       "    }\n",
       "\n",
       "    .dataframe tbody tr th {\n",
       "        vertical-align: top;\n",
       "    }\n",
       "\n",
       "    .dataframe thead th {\n",
       "        text-align: right;\n",
       "    }\n",
       "</style>\n",
       "<table border=\"1\" class=\"dataframe\">\n",
       "  <thead>\n",
       "    <tr style=\"text-align: right;\">\n",
       "      <th></th>\n",
       "      <th>Item</th>\n",
       "      <th>Qtd.Parcelas</th>\n",
       "      <th>Vlr.Parcelas</th>\n",
       "    </tr>\n",
       "  </thead>\n",
       "  <tbody>\n",
       "    <tr>\n",
       "      <th>0</th>\n",
       "      <td>Note book</td>\n",
       "      <td>10</td>\n",
       "      <td>220.0</td>\n",
       "    </tr>\n",
       "    <tr>\n",
       "      <th>1</th>\n",
       "      <td>Creche</td>\n",
       "      <td>-1</td>\n",
       "      <td>200.0</td>\n",
       "    </tr>\n",
       "    <tr>\n",
       "      <th>2</th>\n",
       "      <td>Casa</td>\n",
       "      <td>-1</td>\n",
       "      <td>100.0</td>\n",
       "    </tr>\n",
       "    <tr>\n",
       "      <th>3</th>\n",
       "      <td>Udemy</td>\n",
       "      <td>2</td>\n",
       "      <td>50.0</td>\n",
       "    </tr>\n",
       "    <tr>\n",
       "      <th>4</th>\n",
       "      <td>Bolsa</td>\n",
       "      <td>3</td>\n",
       "      <td>75.0</td>\n",
       "    </tr>\n",
       "    <tr>\n",
       "      <th>5</th>\n",
       "      <td>Casa</td>\n",
       "      <td>-1</td>\n",
       "      <td>100.0</td>\n",
       "    </tr>\n",
       "    <tr>\n",
       "      <th>6</th>\n",
       "      <td>Faculdade</td>\n",
       "      <td>-1</td>\n",
       "      <td>380.0</td>\n",
       "    </tr>\n",
       "    <tr>\n",
       "      <th>7</th>\n",
       "      <td>Controle Ps4</td>\n",
       "      <td>-1</td>\n",
       "      <td>28.0</td>\n",
       "    </tr>\n",
       "    <tr>\n",
       "      <th>8</th>\n",
       "      <td>Man.Carro</td>\n",
       "      <td>3</td>\n",
       "      <td>293.0</td>\n",
       "    </tr>\n",
       "  </tbody>\n",
       "</table>\n",
       "</div>"
      ],
      "text/plain": [
       "            Item  Qtd.Parcelas  Vlr.Parcelas\n",
       "0     Note book             10         220.0\n",
       "1        Creche             -1         200.0\n",
       "2          Casa             -1         100.0\n",
       "3         Udemy              2          50.0\n",
       "4         Bolsa              3          75.0\n",
       "5          Casa             -1         100.0\n",
       "6     Faculdade             -1         380.0\n",
       "7  Controle Ps4             -1          28.0\n",
       "8     Man.Carro              3         293.0"
      ]
     },
     "execution_count": 81,
     "metadata": {},
     "output_type": "execute_result"
    }
   ],
   "source": [
    "contas\n"
   ]
  },
  {
   "cell_type": "code",
   "execution_count": 69,
   "metadata": {},
   "outputs": [
    {
     "data": {
      "text/plain": [
       "1446.0"
      ]
     },
     "execution_count": 69,
     "metadata": {},
     "output_type": "execute_result"
    }
   ],
   "source": [
    "soma = 0.00\n",
    "strValor = ''\n",
    "for vlr in contas['Vlr.Parcelas']:\n",
    "    strValor = str(vlr)\n",
    "    soma += float(strValor)\n",
    "    \n",
    "soma"
   ]
  }
 ],
 "metadata": {
  "kernelspec": {
   "display_name": "Python 3",
   "language": "python",
   "name": "python3"
  },
  "language_info": {
   "codemirror_mode": {
    "name": "ipython",
    "version": 3
   },
   "file_extension": ".py",
   "mimetype": "text/x-python",
   "name": "python",
   "nbconvert_exporter": "python",
   "pygments_lexer": "ipython3",
   "version": "3.7.1"
  }
 },
 "nbformat": 4,
 "nbformat_minor": 2
}
