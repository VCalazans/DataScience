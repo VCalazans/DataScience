{
 "cells": [
  {
   "cell_type": "code",
   "execution_count": 2,
   "metadata": {},
   "outputs": [],
   "source": [
    "#Criação de listas\n",
    "linguagens = [\"Python\", \"R\", \"Julia\", \"PHP\"]\n",
    "mundiais   = [\"Brasil.\", 58, 62, 72, 94, 2002, 2018]"
   ]
  },
  {
   "cell_type": "code",
   "execution_count": 3,
   "metadata": {},
   "outputs": [
    {
     "name": "stdout",
     "output_type": "stream",
     "text": [
      "['Brasil.', 58, 62, 72, 94, 2002, 2018]\n"
     ]
    }
   ],
   "source": [
    "print(mundiais)"
   ]
  },
  {
   "cell_type": "code",
   "execution_count": 8,
   "metadata": {},
   "outputs": [
    {
     "name": "stdout",
     "output_type": "stream",
     "text": [
      "58\n",
      "França\n"
     ]
    }
   ],
   "source": [
    "#indexar listas\n",
    "pais = mundiais[0]\n",
    "titulo1 = mundiais[1]\n",
    "\n",
    "print(titulo1)\n",
    "mundiais[0] = \"França\"\n",
    "pais = mundiais[0]\n",
    "\n",
    "print(pais)"
   ]
  },
  {
   "cell_type": "code",
   "execution_count": 16,
   "metadata": {},
   "outputs": [
    {
     "name": "stdout",
     "output_type": "stream",
     "text": [
      "['França', 2014]\n",
      "['França', 2014, 1954, 1974, 1990, 1994]\n",
      "['França', 2014, 1954, 1974, 1994]\n"
     ]
    }
   ],
   "source": [
    "#Deletar elementos de uma lista\n",
    "del mundiais[1:]\n",
    "#adicionar elementos\n",
    "mundiais.append(2014)\n",
    "print(mundiais)\n",
    "#Adicionando mais de um elemento\n",
    "mundiais.extend([1954, 1974, 1990, 1994])\n",
    "print(mundiais)\n",
    "#Remover elemntos especifico\n",
    "mundiais.remove(1990)\n",
    "print(mundiais)"
   ]
  },
  {
   "cell_type": "code",
   "execution_count": 21,
   "metadata": {},
   "outputs": [],
   "source": [
    "mundiais = [[\"Brasil.\", 58, 62, 72, 94, 2002, 2018], [\"França\", 2014, 1954, 1974, 1994]]"
   ]
  },
  {
   "cell_type": "code",
   "execution_count": 22,
   "metadata": {},
   "outputs": [
    {
     "name": "stdout",
     "output_type": "stream",
     "text": [
      "França\n"
     ]
    }
   ],
   "source": [
    "#Acessando elementos da lista\n",
    "print(mundiais[1][0])"
   ]
  },
  {
   "cell_type": "code",
   "execution_count": 23,
   "metadata": {},
   "outputs": [],
   "source": [
    "a = [\"Brasil.\", 58, 62, 72, 94, 2002, 2018]\n",
    "b = [\"França\", 2014, 1954, 1974, 1994]\n",
    "\n",
    "fifa = a + b"
   ]
  },
  {
   "cell_type": "code",
   "execution_count": 24,
   "metadata": {},
   "outputs": [
    {
     "data": {
      "text/plain": [
       "['Brasil.', 58, 62, 72, 94, 2002, 2018, 'França', 2014, 1954, 1974, 1994]"
      ]
     },
     "execution_count": 24,
     "metadata": {},
     "output_type": "execute_result"
    }
   ],
   "source": [
    "fifa"
   ]
  },
  {
   "cell_type": "code",
   "execution_count": 27,
   "metadata": {},
   "outputs": [
    {
     "name": "stdout",
     "output_type": "stream",
     "text": [
      "False\n",
      "True\n"
     ]
    }
   ],
   "source": [
    "#Verificar se existe um elemento na lista\n",
    "print('Uruguai' in fifa)\n",
    "print('Brasil.' in fifa)"
   ]
  },
  {
   "cell_type": "code",
   "execution_count": 31,
   "metadata": {},
   "outputs": [
    {
     "name": "stdout",
     "output_type": "stream",
     "text": [
      "Indice da equipe 7\n",
      "França\n",
      "[2014, 1954, 1974, 1994]\n"
     ]
    }
   ],
   "source": [
    "# Imprimindo titulos de uma equipe\n",
    "equipe = 'França'\n",
    "\n",
    "if equipe in fifa:\n",
    "    a = fifa.index(equipe)\n",
    "    print('Indice da equipe',a)\n",
    "    print(equipe)\n",
    "    print(fifa[a + 1 :])\n",
    "else:\n",
    "    print(equipe + ' não possui títulos ou não está na lista')"
   ]
  },
  {
   "cell_type": "code",
   "execution_count": 32,
   "metadata": {},
   "outputs": [
    {
     "data": {
      "text/plain": [
       "12"
      ]
     },
     "execution_count": 32,
     "metadata": {},
     "output_type": "execute_result"
    }
   ],
   "source": [
    "#Tamanho da lista\n",
    "len(fifa)"
   ]
  },
  {
   "cell_type": "code",
   "execution_count": 33,
   "metadata": {},
   "outputs": [
    {
     "ename": "TypeError",
     "evalue": "'>' not supported between instances of 'int' and 'str'",
     "output_type": "error",
     "traceback": [
      "\u001b[0;31m---------------------------------------------------------------------------\u001b[0m",
      "\u001b[0;31mTypeError\u001b[0m                                 Traceback (most recent call last)",
      "\u001b[0;32m<ipython-input-33-5b6b326b6120>\u001b[0m in \u001b[0;36m<module>\u001b[0;34m\u001b[0m\n\u001b[1;32m      1\u001b[0m \u001b[0;31m#Valor máximo da lista - Não funciona com listas heterogenea\u001b[0m\u001b[0;34m\u001b[0m\u001b[0;34m\u001b[0m\u001b[0;34m\u001b[0m\u001b[0m\n\u001b[0;32m----> 2\u001b[0;31m \u001b[0mmax\u001b[0m\u001b[0;34m(\u001b[0m\u001b[0mfifa\u001b[0m\u001b[0;34m)\u001b[0m\u001b[0;34m\u001b[0m\u001b[0;34m\u001b[0m\u001b[0m\n\u001b[0m",
      "\u001b[0;31mTypeError\u001b[0m: '>' not supported between instances of 'int' and 'str'"
     ]
    }
   ],
   "source": [
    "#Valor máximo da lista - Não funciona com listas heterogenea\n",
    "max(fifa)"
   ]
  },
  {
   "cell_type": "code",
   "execution_count": 35,
   "metadata": {},
   "outputs": [
    {
     "name": "stdout",
     "output_type": "stream",
     "text": [
      "40\n",
      "Zebra\n",
      "Elefante\n",
      "1\n"
     ]
    }
   ],
   "source": [
    "numeros  = [1, 10, 15, 18, 40, 20]\n",
    "palavras = ['Macaco', 'Leão', 'Zebra', 'Elefante']\n",
    "\n",
    "print(max(numeros))\n",
    "print(max(palavras))\n",
    "print(min(palavras))\n",
    "print(min(numeros))\n"
   ]
  },
  {
   "cell_type": "code",
   "execution_count": 36,
   "metadata": {},
   "outputs": [
    {
     "data": {
      "text/plain": [
       "[20, 40, 18, 15, 10, 1]"
      ]
     },
     "execution_count": 36,
     "metadata": {},
     "output_type": "execute_result"
    }
   ],
   "source": [
    "#Reverte a lista posicionalmente\n",
    "numeros.reverse()\n",
    "numeros"
   ]
  },
  {
   "cell_type": "code",
   "execution_count": 38,
   "metadata": {},
   "outputs": [
    {
     "data": {
      "text/plain": [
       "[1, 10, 15, 18, 20, 40]"
      ]
     },
     "execution_count": 38,
     "metadata": {},
     "output_type": "execute_result"
    }
   ],
   "source": [
    "#Ordena a lista em ORDEDM CRESCENTE\n",
    "numeros.sort()\n",
    "numeros"
   ]
  },
  {
   "cell_type": "code",
   "execution_count": 39,
   "metadata": {},
   "outputs": [
    {
     "data": {
      "text/plain": [
       "2"
      ]
     },
     "execution_count": 39,
     "metadata": {},
     "output_type": "execute_result"
    }
   ],
   "source": [
    "#Adicionando palavras repetidas, e obtendo a quantidade de repetições\n",
    "palavras.append('Macaco')\n",
    "palavras.count('Macaco')"
   ]
  },
  {
   "cell_type": "code",
   "execution_count": 40,
   "metadata": {},
   "outputs": [],
   "source": [
    "lista = ['Estatística', 'SQL', 'ETL', 'Big Data', 'Machine Learning']"
   ]
  },
  {
   "cell_type": "code",
   "execution_count": 41,
   "metadata": {},
   "outputs": [
    {
     "name": "stdout",
     "output_type": "stream",
     "text": [
      "Machine Learning\n"
     ]
    }
   ],
   "source": [
    "print(lista.pop())"
   ]
  },
  {
   "cell_type": "code",
   "execution_count": 48,
   "metadata": {},
   "outputs": [
    {
     "name": "stdout",
     "output_type": "stream",
     "text": [
      "Retirando o objeto  SQL\n",
      "['Estatística', 'ETL', 'Big Data', 'Machine Learning']\n"
     ]
    }
   ],
   "source": [
    "#Podemos também indexar o objeto, iniciando de 0\n",
    "print(\"Retirando o objeto \",lista.pop(1))\n",
    "print(lista)"
   ]
  },
  {
   "cell_type": "code",
   "execution_count": 49,
   "metadata": {},
   "outputs": [],
   "source": [
    "lista = ['Estatística', 'SQL', 'ETL', 'Big Data', 'Machine Learning']"
   ]
  },
  {
   "cell_type": "code",
   "execution_count": 52,
   "metadata": {},
   "outputs": [],
   "source": [
    "conjunto = set()"
   ]
  },
  {
   "cell_type": "code",
   "execution_count": 54,
   "metadata": {},
   "outputs": [],
   "source": [
    "conjunto.add('Java')\n",
    "conjunto.add('R')\n",
    "conjunto.add('Python')"
   ]
  },
  {
   "cell_type": "code",
   "execution_count": 55,
   "metadata": {},
   "outputs": [
    {
     "name": "stdout",
     "output_type": "stream",
     "text": [
      "{'R', 'Python', 'Java'}\n"
     ]
    }
   ],
   "source": [
    "print(conjunto)"
   ]
  },
  {
   "cell_type": "code",
   "execution_count": 56,
   "metadata": {},
   "outputs": [],
   "source": [
    "engenheiros = set(['João', 'Jane', 'Clara'])\n",
    "programadores = set(['Clara', 'Sam', 'Susan', 'Celia'])\n",
    "gerentes = set(['Jane', 'Clara', 'Susan', 'Zack'])"
   ]
  },
  {
   "cell_type": "code",
   "execution_count": 57,
   "metadata": {},
   "outputs": [
    {
     "data": {
      "text/plain": [
       "{'Clara', 'Jane', 'João'}"
      ]
     },
     "execution_count": 57,
     "metadata": {},
     "output_type": "execute_result"
    }
   ],
   "source": [
    "engenheiros"
   ]
  },
  {
   "cell_type": "code",
   "execution_count": 58,
   "metadata": {},
   "outputs": [
    {
     "data": {
      "text/plain": [
       "{'Celia', 'Clara', 'Jane', 'João', 'Sam', 'Susan', 'Zack'}"
      ]
     },
     "execution_count": 58,
     "metadata": {},
     "output_type": "execute_result"
    }
   ],
   "source": [
    "#União\n",
    "funcionarios = engenheiros | programadores | gerentes\n",
    "funcionarios"
   ]
  },
  {
   "cell_type": "code",
   "execution_count": 59,
   "metadata": {},
   "outputs": [
    {
     "data": {
      "text/plain": [
       "{'Clara', 'Jane'}"
      ]
     },
     "execution_count": 59,
     "metadata": {},
     "output_type": "execute_result"
    }
   ],
   "source": [
    "#Interseção\n",
    "gerencia_de_engenharia = engenheiros & gerentes\n",
    "gerencia_de_engenharia"
   ]
  },
  {
   "cell_type": "code",
   "execution_count": 61,
   "metadata": {},
   "outputs": [
    {
     "data": {
      "text/plain": [
       "{'Susan', 'Zack'}"
      ]
     },
     "execution_count": 61,
     "metadata": {},
     "output_type": "execute_result"
    }
   ],
   "source": [
    "#Diferença entre listas\n",
    "gerentes      = set(['Jane', 'Clara', 'Susan', 'Zack'])\n",
    "engenheiros = set(['João', 'Jane', 'Clara', 'Celia'])\n",
    "\n",
    "b = gerentes - engenheiros\n",
    "b"
   ]
  },
  {
   "cell_type": "code",
   "execution_count": 62,
   "metadata": {},
   "outputs": [
    {
     "data": {
      "text/plain": [
       "{'Jane', 'Zack'}"
      ]
     },
     "execution_count": 62,
     "metadata": {},
     "output_type": "execute_result"
    }
   ],
   "source": [
    "gerentes      = set(['Jane', 'Clara', 'Susan', 'Zack'])\n",
    "programadores = set(['Clara', 'Sam', 'Susan', 'Celia'])\n",
    "\n",
    "b = gerentes - programadores\n",
    "b"
   ]
  }
 ],
 "metadata": {
  "kernelspec": {
   "display_name": "Python 3",
   "language": "python",
   "name": "python3"
  },
  "language_info": {
   "codemirror_mode": {
    "name": "ipython",
    "version": 3
   },
   "file_extension": ".py",
   "mimetype": "text/x-python",
   "name": "python",
   "nbconvert_exporter": "python",
   "pygments_lexer": "ipython3",
   "version": "3.7.1"
  }
 },
 "nbformat": 4,
 "nbformat_minor": 2
}
