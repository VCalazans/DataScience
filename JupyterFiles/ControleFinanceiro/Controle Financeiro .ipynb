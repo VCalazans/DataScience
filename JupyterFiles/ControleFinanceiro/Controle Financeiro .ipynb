{
 "cells": [
  {
   "cell_type": "code",
   "execution_count": null,
   "metadata": {},
   "outputs": [],
   "source": [
    "#IDEIA CENTRAL:\n",
    "\n",
    "# MONTAR UM ARQUIVO, SEGUINDO UM LAYOUT. ONDE SERÁ ESPCIFICADO O TÍTULO DA DIVIDA, O VALOR DA DÍVIDA, QUANTIDADE\n",
    "# DE PARCELAS E DATA DE VENCIMENTO DA ÚLTIOMA PARCELA.\n",
    "\n",
    "# LAYOUT : ITEM | QTD.PARCELAS | VLR.PARCELA |"
   ]
  },
  {
   "cell_type": "code",
   "execution_count": 88,
   "metadata": {},
   "outputs": [],
   "source": [
    "import os\n",
    "import pandas as pd"
   ]
  },
  {
   "cell_type": "code",
   "execution_count": 89,
   "metadata": {},
   "outputs": [],
   "source": [
    "from datetime import datetime\n",
    "now    = datetime.now()\n",
    "meses  = ['', 'janeiro', 'fevereiro', 'março', 'abril', 'maio', 'junho', 'julho', 'agosto', 'setembro', 'outubro', 'novembro', 'dezembro']"
   ]
  },
  {
   "cell_type": "code",
   "execution_count": 95,
   "metadata": {},
   "outputs": [],
   "source": [
    "#Diretório para Windows\n",
    "with open('D:\\\\JupyterFiles\\\\DataScience\\\\JupyterFiles\\\\ControleFinanceiro\\\\contas.txt', 'w') as arq:\n",
    "    arq.write('Creche | -1 | 200.00\\n')\n",
    "    arq.write('Casa | -1 | 100.00\\n')\n",
    "    arq.write('Faculdade | -1 | 380.00\\n')\n",
    "    arq.write('Controle Ps4 | -1 | 28.00\\n')\n",
    "    arq.write('Man.Carro | 3 | 293.00 | 032019 \\n')\n",
    "    arq.write('Celular | 3 | 180.00 | 102019 \\n')\n",
    "    arq.write('Gasolina | -1 | 200.00 \\n')\n",
    "    arq.write('Gasolina | -1 | 50.00 | 032019\\n')\n",
    "    arq.write('Crédito | -1 | 40.00 \\n')"
   ]
  },
  {
   "cell_type": "code",
   "execution_count": null,
   "metadata": {},
   "outputs": [],
   "source": [
    "#Diretório para o Linux.\n",
    "with open('/home/vcalazans/JupyterFiles/ControleFinanceiro/contas.txt', 'w') as arq:\n",
    "    arq.write('Creche | -1 | 200.00\\n')\n",
    "    arq.write('Casa | -1 | 100.00\\n')\n",
    "    arq.write('Casa | -1 | 100.00\\n ')\n",
    "    arq.write('Faculdade | -1 | 380.00\\n')\n",
    "    arq.write('Controle Ps4 | -1 | 28.00\\n')\n",
    "    arq.write('Man.Carro | 3 | 293.00 | 032019 \\n')\n",
    "    arq.write('Celular | 3 | 180.00 | 102019 \\n')\n",
    "    \n",
    "    "
   ]
  },
  {
   "cell_type": "code",
   "execution_count": 96,
   "metadata": {},
   "outputs": [],
   "source": [
    "#data no padrão (mmaaaa)\n",
    "colunas = ['Item', 'Qtd.Parcelas', 'Vlr.Parcelas', 'Fim.Vig']\n",
    "contas = pd.read_table('contas.txt', sep = '|', encoding = 'ISO-8859-1', header = None, names = colunas)"
   ]
  },
  {
   "cell_type": "code",
   "execution_count": 97,
   "metadata": {},
   "outputs": [
    {
     "data": {
      "text/html": [
       "<div>\n",
       "<style scoped>\n",
       "    .dataframe tbody tr th:only-of-type {\n",
       "        vertical-align: middle;\n",
       "    }\n",
       "\n",
       "    .dataframe tbody tr th {\n",
       "        vertical-align: top;\n",
       "    }\n",
       "\n",
       "    .dataframe thead th {\n",
       "        text-align: right;\n",
       "    }\n",
       "</style>\n",
       "<table border=\"1\" class=\"dataframe\">\n",
       "  <thead>\n",
       "    <tr style=\"text-align: right;\">\n",
       "      <th></th>\n",
       "      <th>Item</th>\n",
       "      <th>Qtd.Parcelas</th>\n",
       "      <th>Vlr.Parcelas</th>\n",
       "      <th>Fim.Vig</th>\n",
       "    </tr>\n",
       "  </thead>\n",
       "  <tbody>\n",
       "    <tr>\n",
       "      <th>0</th>\n",
       "      <td>Creche</td>\n",
       "      <td>-1</td>\n",
       "      <td>200.0</td>\n",
       "      <td>NaN</td>\n",
       "    </tr>\n",
       "    <tr>\n",
       "      <th>1</th>\n",
       "      <td>Casa</td>\n",
       "      <td>-1</td>\n",
       "      <td>100.0</td>\n",
       "      <td>NaN</td>\n",
       "    </tr>\n",
       "    <tr>\n",
       "      <th>2</th>\n",
       "      <td>Faculdade</td>\n",
       "      <td>-1</td>\n",
       "      <td>380.0</td>\n",
       "      <td>NaN</td>\n",
       "    </tr>\n",
       "    <tr>\n",
       "      <th>3</th>\n",
       "      <td>Controle Ps4</td>\n",
       "      <td>-1</td>\n",
       "      <td>28.0</td>\n",
       "      <td>NaN</td>\n",
       "    </tr>\n",
       "    <tr>\n",
       "      <th>4</th>\n",
       "      <td>Man.Carro</td>\n",
       "      <td>3</td>\n",
       "      <td>293.0</td>\n",
       "      <td>32019.0</td>\n",
       "    </tr>\n",
       "    <tr>\n",
       "      <th>5</th>\n",
       "      <td>Celular</td>\n",
       "      <td>3</td>\n",
       "      <td>180.0</td>\n",
       "      <td>102019.0</td>\n",
       "    </tr>\n",
       "    <tr>\n",
       "      <th>6</th>\n",
       "      <td>Gasolina</td>\n",
       "      <td>-1</td>\n",
       "      <td>200.0</td>\n",
       "      <td>NaN</td>\n",
       "    </tr>\n",
       "    <tr>\n",
       "      <th>7</th>\n",
       "      <td>Gasolina</td>\n",
       "      <td>-1</td>\n",
       "      <td>50.0</td>\n",
       "      <td>32019.0</td>\n",
       "    </tr>\n",
       "    <tr>\n",
       "      <th>8</th>\n",
       "      <td>Crédito</td>\n",
       "      <td>-1</td>\n",
       "      <td>40.0</td>\n",
       "      <td>NaN</td>\n",
       "    </tr>\n",
       "  </tbody>\n",
       "</table>\n",
       "</div>"
      ],
      "text/plain": [
       "            Item  Qtd.Parcelas  Vlr.Parcelas   Fim.Vig\n",
       "0        Creche             -1         200.0       NaN\n",
       "1          Casa             -1         100.0       NaN\n",
       "2     Faculdade             -1         380.0       NaN\n",
       "3  Controle Ps4             -1          28.0       NaN\n",
       "4     Man.Carro              3         293.0   32019.0\n",
       "5       Celular              3         180.0  102019.0\n",
       "6      Gasolina             -1         200.0       NaN\n",
       "7      Gasolina             -1          50.0   32019.0\n",
       "8       Crédito             -1          40.0       NaN"
      ]
     },
     "execution_count": 97,
     "metadata": {},
     "output_type": "execute_result"
    }
   ],
   "source": [
    "contas\n"
   ]
  },
  {
   "cell_type": "code",
   "execution_count": 98,
   "metadata": {},
   "outputs": [
    {
     "name": "stdout",
     "output_type": "stream",
     "text": [
      "\n",
      " Total : R$ 1481.0 in março\n",
      "\n",
      " Sobra do mês : R$ 229.0\n"
     ]
    }
   ],
   "source": [
    "dividas       = 0.00\n",
    "strValor      = ''\n",
    "baseCalc      = 2100.0\n",
    "investimentos = 400.0\n",
    "\n",
    "#Soma o total a pagar\n",
    "for vlr in contas['Vlr.Parcelas']:\n",
    "    strValor = str(vlr)\n",
    "    dividas += float(strValor)\n",
    "\n",
    "dtAtual = str(now.month) + str(now.year)\n",
    "dtFimVig = ''\n",
    "\n",
    "contador = 0\n",
    "#Verifica se tem alguma divida já quitada!\n",
    "for dt in contas['Fim.Vig']:\n",
    "    dtFimVig = str(dt)\n",
    "   \n",
    "    if float(dtAtual) == float(dtFimVig):\n",
    "        print('Registro ', contador, ' Acaba este mês!')\n",
    "    \n",
    "    if int(dtAtual) > float(dtFimVig):\n",
    "        print('Registro ', contador, ' Já acabou!')\n",
    "    \n",
    "    contador += 1\n",
    "\n",
    "print('\\n Total : R$',soma, 'in', meses[now.month + 1]) # + 1 pois estou sempre prevendo o mês seguinte\n",
    "\n",
    "#Sobras do mês.\n",
    "print('\\n Sobra do mês : R$', baseCalc - (dividas + investimentos))"
   ]
  }
 ],
 "metadata": {
  "kernelspec": {
   "display_name": "Python 3",
   "language": "python",
   "name": "python3"
  },
  "language_info": {
   "codemirror_mode": {
    "name": "ipython",
    "version": 3
   },
   "file_extension": ".py",
   "mimetype": "text/x-python",
   "name": "python",
   "nbconvert_exporter": "python",
   "pygments_lexer": "ipython3",
   "version": "3.7.1"
  }
 },
 "nbformat": 4,
 "nbformat_minor": 2
}
