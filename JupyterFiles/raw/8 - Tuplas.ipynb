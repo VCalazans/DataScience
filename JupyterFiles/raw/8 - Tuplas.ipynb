{
 "cells": [
  {
   "cell_type": "code",
   "execution_count": 6,
   "metadata": {},
   "outputs": [],
   "source": [
    "#Tuplas () -> São definidas com parenteses\n",
    "#São imultaveis.\n",
    "Rio_De_Janeiro = (2410, 1227)\n",
    "Salvador       = (5816, 3039)\n",
    "Recife         = (314, 5252)"
   ]
  },
  {
   "cell_type": "code",
   "execution_count": 2,
   "metadata": {},
   "outputs": [
    {
     "name": "stdout",
     "output_type": "stream",
     "text": [
      "(2410, 1227)\n",
      "(5816, 3039)\n",
      "(314, 5252)\n"
     ]
    }
   ],
   "source": [
    "print(Rio_De_Janeiro)\n",
    "print(Salvador)\n",
    "print(Recife)"
   ]
  },
  {
   "cell_type": "code",
   "execution_count": 3,
   "metadata": {},
   "outputs": [
    {
     "data": {
      "text/plain": [
       "tuple"
      ]
     },
     "execution_count": 3,
     "metadata": {},
     "output_type": "execute_result"
    }
   ],
   "source": [
    "#Verifica o tipo\n",
    "type(Salvador)"
   ]
  },
  {
   "cell_type": "code",
   "execution_count": 5,
   "metadata": {},
   "outputs": [
    {
     "data": {
      "text/plain": [
       "1227"
      ]
     },
     "execution_count": 5,
     "metadata": {},
     "output_type": "execute_result"
    }
   ],
   "source": [
    "#Também é indexada\n",
    "Rio_De_Janeiro[1]"
   ]
  },
  {
   "cell_type": "code",
   "execution_count": 9,
   "metadata": {},
   "outputs": [
    {
     "name": "stdout",
     "output_type": "stream",
     "text": [
      "As dimensões sao 52 X 40 X 100\n",
      "AS dimensões sao  52  X  40  X  100\n"
     ]
    }
   ],
   "source": [
    "#Descompactando Tuplas\n",
    "#Fomat : Método do tipo String\n",
    "\n",
    "dimensoes = (52, 40, 100)\n",
    "largura, altura, profundidade = dimensoes\n",
    "print(\"As dimensões sao {} X {} X {}\".format(largura, altura, profundidade))\n",
    "print(\"AS dimensões sao \", largura, \" X \",altura, \" X \", profundidade)"
   ]
  },
  {
   "cell_type": "code",
   "execution_count": 12,
   "metadata": {},
   "outputs": [
    {
     "name": "stdout",
     "output_type": "stream",
     "text": [
      "A latitude de salvador é 5816\n"
     ]
    }
   ],
   "source": [
    "print(\"A latitude de salvador é {}\".format(Salvador[0]))"
   ]
  },
  {
   "cell_type": "code",
   "execution_count": 18,
   "metadata": {},
   "outputs": [],
   "source": [
    "#Criando um Box\n",
    "def box(largura, altura, caracter = \"#\"):\n",
    "\n",
    "    print(caracter * largura)\n",
    "    for i in range(altura - 2):\n",
    "        print(caracter + \" \"*(largura - 2) + caracter)\n",
    "    print(caracter * largura)\n",
    "    "
   ]
  },
  {
   "cell_type": "code",
   "execution_count": 25,
   "metadata": {},
   "outputs": [
    {
     "name": "stdout",
     "output_type": "stream",
     "text": [
      "##############################################################################################################\n",
      "#                                                                                                            #\n",
      "#                                                                                                            #\n",
      "#                                                                                                            #\n",
      "#                                                                                                            #\n",
      "#                                                                                                            #\n",
      "#                                                                                                            #\n",
      "#                                                                                                            #\n",
      "#                                                                                                            #\n",
      "##############################################################################################################\n"
     ]
    }
   ],
   "source": [
    "box(110,10)"
   ]
  }
 ],
 "metadata": {
  "kernelspec": {
   "display_name": "Python 3",
   "language": "python",
   "name": "python3"
  },
  "language_info": {
   "codemirror_mode": {
    "name": "ipython",
    "version": 3
   },
   "file_extension": ".py",
   "mimetype": "text/x-python",
   "name": "python",
   "nbconvert_exporter": "python",
   "pygments_lexer": "ipython3",
   "version": "3.7.1"
  }
 },
 "nbformat": 4,
 "nbformat_minor": 2
}
