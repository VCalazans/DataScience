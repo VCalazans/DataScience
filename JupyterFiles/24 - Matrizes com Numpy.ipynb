{
 "cells": [
  {
   "cell_type": "code",
   "execution_count": 5,
   "metadata": {},
   "outputs": [],
   "source": [
    "import numpy as np"
   ]
  },
  {
   "cell_type": "code",
   "execution_count": 11,
   "metadata": {},
   "outputs": [],
   "source": [
    "A = np.matrix([[1, 2], [3, 4]])\n",
    "B = np.matrix([[5, 3], [8, 7]])\n",
    "\n",
    "Z = np.array([\n",
    "              [[2, 6], [8, 4]],\n",
    "              [[2, 6], [8, 4]],\n",
    "              [[2, 6], [8, 4]]\n",
    "])\n",
    "\n",
    "Y = np.array([2, 6, 8, 4])"
   ]
  },
  {
   "cell_type": "code",
   "execution_count": 14,
   "metadata": {},
   "outputs": [],
   "source": [
    "Z = np.array([\n",
    "              [[2, 6], [8, 4]],\n",
    "              [[2, 6], [8, 4]],\n",
    "              [[2, 6], [8, 4]]\n",
    "])"
   ]
  },
  {
   "cell_type": "code",
   "execution_count": 16,
   "metadata": {},
   "outputs": [
    {
     "name": "stdout",
     "output_type": "stream",
     "text": [
      "<class 'numpy.matrixlib.defmatrix.matrix'>\n",
      "<class 'numpy.matrixlib.defmatrix.matrix'>\n",
      "<class 'numpy.ndarray'>\n",
      "<class 'numpy.ndarray'>\n"
     ]
    }
   ],
   "source": [
    "print(type(A))\n",
    "print(type(B))\n",
    "print(type(Z))\n",
    "print(type(Y))"
   ]
  },
  {
   "cell_type": "code",
   "execution_count": 23,
   "metadata": {},
   "outputs": [
    {
     "name": "stdout",
     "output_type": "stream",
     "text": [
      "(3, 2, 2)\n",
      "(2, 2)\n",
      "(2, 2)\n",
      "(4,)\n"
     ]
    }
   ],
   "source": [
    "print(Z.shape)\n",
    "print(A.shape)\n",
    "print(B.shape)\n",
    "print(Y.shape)"
   ]
  },
  {
   "cell_type": "code",
   "execution_count": 26,
   "metadata": {},
   "outputs": [
    {
     "name": "stdout",
     "output_type": "stream",
     "text": [
      "[[ 6  5]\n",
      " [11 11]]\n",
      "\n",
      " [[[ 4 36]\n",
      "  [64 16]]\n",
      "\n",
      " [[ 4 36]\n",
      "  [64 16]]\n",
      "\n",
      " [[ 4 36]\n",
      "  [64 16]]]\n"
     ]
    }
   ],
   "source": [
    "#Operações\n",
    "\n",
    "print(A + B)\n",
    "print(\"\\n\", Z * Z)"
   ]
  },
  {
   "cell_type": "code",
   "execution_count": 27,
   "metadata": {},
   "outputs": [
    {
     "name": "stdout",
     "output_type": "stream",
     "text": [
      "[[[ 4 36]\n",
      "  [64 16]]\n",
      "\n",
      " [[ 4 36]\n",
      "  [64 16]]\n",
      "\n",
      " [[ 4 36]\n",
      "  [64 16]]]\n"
     ]
    }
   ],
   "source": [
    "#Multiplicação de índice * índice\n",
    "print(np.multiply(Z, Z))"
   ]
  },
  {
   "cell_type": "code",
   "execution_count": 28,
   "metadata": {},
   "outputs": [
    {
     "name": "stdout",
     "output_type": "stream",
     "text": [
      "[[[-0.1   0.15]\n",
      "  [ 0.2  -0.05]]\n",
      "\n",
      " [[-0.1   0.15]\n",
      "  [ 0.2  -0.05]]\n",
      "\n",
      " [[-0.1   0.15]\n",
      "  [ 0.2  -0.05]]]\n"
     ]
    }
   ],
   "source": [
    "#Inversa\n",
    "print(np.linalg.inv(Z))"
   ]
  },
  {
   "cell_type": "code",
   "execution_count": 29,
   "metadata": {},
   "outputs": [],
   "source": [
    "from numpy.linalg import inv"
   ]
  },
  {
   "cell_type": "code",
   "execution_count": 31,
   "metadata": {},
   "outputs": [
    {
     "name": "stdout",
     "output_type": "stream",
     "text": [
      "[[[-0.1   0.15]\n",
      "  [ 0.2  -0.05]]\n",
      "\n",
      " [[-0.1   0.15]\n",
      "  [ 0.2  -0.05]]\n",
      "\n",
      " [[-0.1   0.15]\n",
      "  [ 0.2  -0.05]]]\n"
     ]
    }
   ],
   "source": [
    "print(inv(Z))"
   ]
  },
  {
   "cell_type": "code",
   "execution_count": 32,
   "metadata": {},
   "outputs": [
    {
     "name": "stdout",
     "output_type": "stream",
     "text": [
      "[[[2 2 2]\n",
      "  [8 8 8]]\n",
      "\n",
      " [[6 6 6]\n",
      "  [4 4 4]]]\n"
     ]
    }
   ],
   "source": [
    "#Transposta\n",
    "print(Z.T)"
   ]
  }
 ],
 "metadata": {
  "kernelspec": {
   "display_name": "Python 3",
   "language": "python",
   "name": "python3"
  },
  "language_info": {
   "codemirror_mode": {
    "name": "ipython",
    "version": 3
   },
   "file_extension": ".py",
   "mimetype": "text/x-python",
   "name": "python",
   "nbconvert_exporter": "python",
   "pygments_lexer": "ipython3",
   "version": "3.7.1"
  }
 },
 "nbformat": 4,
 "nbformat_minor": 2
}
