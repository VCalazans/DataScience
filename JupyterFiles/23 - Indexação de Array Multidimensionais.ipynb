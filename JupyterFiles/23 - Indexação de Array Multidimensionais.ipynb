{
 "cells": [
  {
   "cell_type": "code",
   "execution_count": 4,
   "metadata": {},
   "outputs": [],
   "source": [
    "import numpy as np"
   ]
  },
  {
   "cell_type": "code",
   "execution_count": 5,
   "metadata": {},
   "outputs": [
    {
     "name": "stdout",
     "output_type": "stream",
     "text": [
      "[[ 1  2  3  4]\n",
      " [ 5  6  7  8]\n",
      " [10 20 30 40]\n",
      " [50 60 70 82]]\n"
     ]
    }
   ],
   "source": [
    "A = [[1, 2, 3, 4], [5, 6, 7, 8], [10, 20, 30, 40], [50, 60, 70, 82]]\n",
    "array = np.array(A)\n",
    "print(array)"
   ]
  },
  {
   "cell_type": "code",
   "execution_count": 6,
   "metadata": {},
   "outputs": [
    {
     "name": "stdout",
     "output_type": "stream",
     "text": [
      "[10 20 30 40]\n"
     ]
    }
   ],
   "source": [
    "#Linha de Indice 2\n",
    "print(array[2])"
   ]
  },
  {
   "cell_type": "code",
   "execution_count": 7,
   "metadata": {},
   "outputs": [
    {
     "name": "stdout",
     "output_type": "stream",
     "text": [
      "4\n"
     ]
    }
   ],
   "source": [
    "#Primeira linhha ultima coluna\n",
    "print(array[0, -1])"
   ]
  },
  {
   "cell_type": "code",
   "execution_count": 8,
   "metadata": {},
   "outputs": [
    {
     "name": "stdout",
     "output_type": "stream",
     "text": [
      "[[ 0  2  3  4]\n",
      " [ 5  6  7  8]\n",
      " [10 20 30 40]\n",
      " [50 60 70 82]]\n"
     ]
    }
   ],
   "source": [
    "#Atribuindo valor a uma posição da matriz\n",
    "array[0, 0] = 0\n",
    "print(array)"
   ]
  },
  {
   "cell_type": "code",
   "execution_count": 11,
   "metadata": {},
   "outputs": [
    {
     "name": "stdout",
     "output_type": "stream",
     "text": [
      "[[ 6  7]\n",
      " [20 30]]\n"
     ]
    }
   ],
   "source": [
    "#TRABALHANDO COM INTERVALOS\n",
    "#Pegando os numeros centrais\n",
    "print(array[1:3, 1:3])"
   ]
  },
  {
   "cell_type": "code",
   "execution_count": 12,
   "metadata": {},
   "outputs": [
    {
     "name": "stdout",
     "output_type": "stream",
     "text": [
      "[[ 7  8]\n",
      " [30 40]]\n"
     ]
    }
   ],
   "source": [
    "# Pegando o intervalo 7, 8, 30 e 44\n",
    "print(array[1:3, 2:4])"
   ]
  },
  {
   "cell_type": "code",
   "execution_count": 13,
   "metadata": {},
   "outputs": [
    {
     "name": "stdout",
     "output_type": "stream",
     "text": [
      "[ 4  8 40 82]\n"
     ]
    }
   ],
   "source": [
    "# Trazendo somente a ultima coluna\n",
    "print(array[:, -1])"
   ]
  },
  {
   "cell_type": "code",
   "execution_count": 14,
   "metadata": {},
   "outputs": [
    {
     "name": "stdout",
     "output_type": "stream",
     "text": [
      "[50 60 70 82]\n"
     ]
    }
   ],
   "source": [
    "#Trazendo somente a última linha\n",
    "print(array[-1, :])"
   ]
  },
  {
   "cell_type": "code",
   "execution_count": 20,
   "metadata": {},
   "outputs": [
    {
     "name": "stdout",
     "output_type": "stream",
     "text": [
      "[[1 2]\n",
      " [3 4]\n",
      " [5 6]]\n"
     ]
    }
   ],
   "source": [
    "#Concatenando arrays multidimensionais\n",
    "A = np.array([[1, 2], [3, 4]])\n",
    "B = np.array([[5, 6]])\n",
    "\n",
    "C = np.concatenate((A, B))\n",
    "print(C)"
   ]
  }
 ],
 "metadata": {
  "kernelspec": {
   "display_name": "Python 3",
   "language": "python",
   "name": "python3"
  },
  "language_info": {
   "codemirror_mode": {
    "name": "ipython",
    "version": 3
   },
   "file_extension": ".py",
   "mimetype": "text/x-python",
   "name": "python",
   "nbconvert_exporter": "python",
   "pygments_lexer": "ipython3",
   "version": "3.7.1"
  }
 },
 "nbformat": 4,
 "nbformat_minor": 2
}
