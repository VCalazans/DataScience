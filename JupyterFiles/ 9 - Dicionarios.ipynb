{
 "cells": [
  {
   "cell_type": "code",
   "execution_count": 2,
   "metadata": {},
   "outputs": [],
   "source": [
    "#Tuplas são criados com parenteses, Listas com colchetes, dicionários sao criados com chaves\n",
    "\n",
    "Grunt    = {'categoria':'guerreiro', 'força':110, 'experiencia':50, 'vida':100, 'cura':70}\n",
    "Shallur  = {'categoria':'mago', 'força':50, 'experiencia':120, 'vida':60,'cura':100}\n",
    "Eldor    = {'categoria':'elfo', 'força':70, 'experiencia':80, 'vida':120, 'cura':110}"
   ]
  },
  {
   "cell_type": "code",
   "execution_count": 5,
   "metadata": {},
   "outputs": [
    {
     "name": "stdout",
     "output_type": "stream",
     "text": [
      "{'categoria': 'guerreiro', 'força': 110, 'experiencia': 50, 'vida': 100, 'cura': 70}\n",
      "{'categoria': 'mago', 'força': 50, 'experiencia': 120, 'vida': 60, 'cura': 100}\n",
      "{'categoria': 'elfo', 'força': 70, 'experiencia': 80, 'vida': 120, 'cura': 110}\n"
     ]
    }
   ],
   "source": [
    "print(Grunt)\n",
    "print(Shallur)\n",
    "print(Eldor)"
   ]
  },
  {
   "cell_type": "code",
   "execution_count": 6,
   "metadata": {},
   "outputs": [
    {
     "name": "stdout",
     "output_type": "stream",
     "text": [
      "Força do Grunt 110\n",
      "Experiencia de Eldor 80\n"
     ]
    }
   ],
   "source": [
    "#Indexando por chaves\n",
    "print('Força do Grunt',Grunt['força'])\n",
    "print('Experiencia de Eldor', Eldor['experiencia'])"
   ]
  },
  {
   "cell_type": "code",
   "execution_count": 7,
   "metadata": {},
   "outputs": [],
   "source": [
    "#Criando um dicionário vazio\n",
    "Kallipha = {}"
   ]
  },
  {
   "cell_type": "code",
   "execution_count": 8,
   "metadata": {},
   "outputs": [],
   "source": [
    "#Adicionando elementos\n",
    "Kallipha['Categoria'] = 'Elfo'\n",
    "Kallipha['Força'] = 75\n",
    "Kallipha['Experiencia'] = 73\n",
    "Kallipha['Vida'] = 124\n",
    "Kallipha['Cura'] = 100\n"
   ]
  },
  {
   "cell_type": "code",
   "execution_count": 9,
   "metadata": {},
   "outputs": [
    {
     "name": "stdout",
     "output_type": "stream",
     "text": [
      "{'categoria': 'guerreiro', 'força': 110, 'experiencia': 50, 'vida': 100, 'cura': 70}\n",
      "{'categoria': 'mago', 'força': 50, 'experiencia': 120, 'vida': 60, 'cura': 100}\n",
      "{'categoria': 'elfo', 'força': 70, 'experiencia': 80, 'vida': 120, 'cura': 110}\n",
      "{'Categoria': 'Elfo', 'Força': 75, 'Experiencia': 73, 'Vida': 124, 'Cura': 100}\n"
     ]
    }
   ],
   "source": [
    "print(Grunt)\n",
    "print(Shallur)\n",
    "print(Eldor)\n",
    "print(Kallipha)"
   ]
  },
  {
   "cell_type": "code",
   "execution_count": 12,
   "metadata": {},
   "outputs": [],
   "source": [
    "#Dicionarios aninhados\n",
    "#Adicionando um elemento lista ao dicionario\n",
    "Grunt['armas'] = ['escudo','espada']"
   ]
  },
  {
   "cell_type": "code",
   "execution_count": 10,
   "metadata": {},
   "outputs": [
    {
     "name": "stdout",
     "output_type": "stream",
     "text": [
      "{'categoria': 'guerreiro', 'força': 110, 'experiencia': 50, 'vida': 100, 'cura': 70}\n"
     ]
    }
   ],
   "source": [
    "print(Grunt)"
   ]
  },
  {
   "cell_type": "code",
   "execution_count": 13,
   "metadata": {},
   "outputs": [
    {
     "name": "stdout",
     "output_type": "stream",
     "text": [
      "escudo\n"
     ]
    }
   ],
   "source": [
    "print(Grunt['armas'][0])"
   ]
  },
  {
   "cell_type": "code",
   "execution_count": 14,
   "metadata": {},
   "outputs": [
    {
     "data": {
      "text/plain": [
       "dict"
      ]
     },
     "execution_count": 14,
     "metadata": {},
     "output_type": "execute_result"
    }
   ],
   "source": [
    "type(Grunt)"
   ]
  },
  {
   "cell_type": "code",
   "execution_count": 16,
   "metadata": {},
   "outputs": [
    {
     "name": "stdout",
     "output_type": "stream",
     "text": [
      "[('categoria', 'guerreiro'), ('força', 110), ('experiencia', 50), ('vida', 100), ('cura', 70), ('armas', ['escudo', 'espada'])]\n"
     ]
    }
   ],
   "source": [
    "#Imprime o Item, Chave e Valor\n",
    "print(list(Grunt.items()))"
   ]
  },
  {
   "cell_type": "code",
   "execution_count": 17,
   "metadata": {},
   "outputs": [
    {
     "data": {
      "text/plain": [
       "dict_items([('Categoria', 'Elfo'), ('Força', 75), ('Experiencia', 73), ('Vida', 124), ('Cura', 100)])"
      ]
     },
     "execution_count": 17,
     "metadata": {},
     "output_type": "execute_result"
    }
   ],
   "source": [
    "Kallipha.items()"
   ]
  },
  {
   "cell_type": "code",
   "execution_count": 19,
   "metadata": {},
   "outputs": [
    {
     "name": "stdout",
     "output_type": "stream",
     "text": [
      "dict_keys(['categoria', 'força', 'experiencia', 'vida', 'cura', 'armas'])\n"
     ]
    }
   ],
   "source": [
    "print(Grunt.keys())"
   ]
  },
  {
   "cell_type": "code",
   "execution_count": 20,
   "metadata": {},
   "outputs": [
    {
     "name": "stdout",
     "output_type": "stream",
     "text": [
      "dict_values(['guerreiro', 110, 50, 100, 70, ['escudo', 'espada']])\n"
     ]
    }
   ],
   "source": [
    "print(Grunt.values())"
   ]
  },
  {
   "cell_type": "code",
   "execution_count": 22,
   "metadata": {},
   "outputs": [
    {
     "name": "stdout",
     "output_type": "stream",
     "text": [
      "Chave :  categoria\n",
      "Chave :  força\n",
      "Chave :  experiencia\n",
      "Chave :  vida\n",
      "Chave :  cura\n",
      "Chave :  armas\n"
     ]
    }
   ],
   "source": [
    "for var in Grunt:\n",
    "    print('Chave : ', var)"
   ]
  },
  {
   "cell_type": "code",
   "execution_count": 3,
   "metadata": {},
   "outputs": [
    {
     "name": "stdout",
     "output_type": "stream",
     "text": [
      "Chave: categoria mapeado para: guerreiro\n",
      "Chave: força mapeado para: 110\n",
      "Chave: experiencia mapeado para: 50\n",
      "Chave: vida mapeado para: 100\n",
      "Chave: cura mapeado para: 70\n"
     ]
    }
   ],
   "source": [
    "#Atribuição Multipla CHAVE/VALOR\n",
    "for (chave, valor) in Grunt.items():\n",
    "    print('Chave:', chave,\"mapeado para:\", valor)"
   ]
  },
  {
   "cell_type": "code",
   "execution_count": 5,
   "metadata": {},
   "outputs": [
    {
     "name": "stdout",
     "output_type": "stream",
     "text": [
      "Chave categoria  - mapeado para: guerreiro\n",
      "Chave força  - mapeado para: 110\n",
      "Chave experiencia  - mapeado para: 50\n",
      "Chave vida  - mapeado para: 100\n",
      "Chave cura  - mapeado para: 70\n"
     ]
    }
   ],
   "source": [
    "#Impressão através do indice VAR\n",
    "\n",
    "for var in Grunt:\n",
    "    print('Chave', var, \" - mapeado para:\", Grunt[var])"
   ]
  },
  {
   "cell_type": "code",
   "execution_count": 7,
   "metadata": {},
   "outputs": [
    {
     "name": "stdout",
     "output_type": "stream",
     "text": [
      "True\n",
      "False\n",
      "312\n"
     ]
    }
   ],
   "source": [
    "#Ultilizando operador IN\n",
    "inventario = {'maca':430, 'bananas':312, 'laranja':525, 'pera':217}\n",
    "\n",
    "print('maca' in inventario)\n",
    "print('cereja' in inventario)\n",
    "\n",
    "if 'bananas' in inventario:\n",
    "    print(inventario['bananas'])\n",
    "else:\n",
    "    print('Nao temos bananas')"
   ]
  },
  {
   "cell_type": "code",
   "execution_count": 8,
   "metadata": {},
   "outputs": [
    {
     "name": "stdout",
     "output_type": "stream",
     "text": [
      "None\n"
     ]
    }
   ],
   "source": [
    "print(inventario.get('melancia'))"
   ]
  },
  {
   "cell_type": "code",
   "execution_count": 9,
   "metadata": {},
   "outputs": [],
   "source": [
    "#inventario = {'maca':430, 'bananas':312, 'laranja':525, 'pera':217}\n",
    "\n",
    "mercado = inventario"
   ]
  },
  {
   "cell_type": "code",
   "execution_count": 10,
   "metadata": {},
   "outputs": [],
   "source": [
    "inventario['melancia'] = 10"
   ]
  },
  {
   "cell_type": "code",
   "execution_count": 11,
   "metadata": {},
   "outputs": [
    {
     "data": {
      "text/plain": [
       "{'maca': 430, 'bananas': 312, 'laranja': 525, 'pera': 217, 'melancia': 10}"
      ]
     },
     "execution_count": 11,
     "metadata": {},
     "output_type": "execute_result"
    }
   ],
   "source": [
    "mercado"
   ]
  },
  {
   "cell_type": "code",
   "execution_count": 15,
   "metadata": {},
   "outputs": [],
   "source": [
    "#Alterando nome das chaves\n",
    "dicionario = {'UM':1, 'DOIS':2, 'TRES':3, 'FOUR':4}"
   ]
  },
  {
   "cell_type": "code",
   "execution_count": 16,
   "metadata": {},
   "outputs": [],
   "source": [
    "dicionario['QUATRO'] = dicionario.pop('FOUR')"
   ]
  },
  {
   "cell_type": "code",
   "execution_count": 17,
   "metadata": {},
   "outputs": [
    {
     "data": {
      "text/plain": [
       "{'UM': 1, 'DOIS': 2, 'TRES': 3, 'QUATRO': 4}"
      ]
     },
     "execution_count": 17,
     "metadata": {},
     "output_type": "execute_result"
    }
   ],
   "source": [
    "dicionario"
   ]
  },
  {
   "cell_type": "code",
   "execution_count": 18,
   "metadata": {},
   "outputs": [
    {
     "data": {
      "text/plain": [
       "dict"
      ]
     },
     "execution_count": 18,
     "metadata": {},
     "output_type": "execute_result"
    }
   ],
   "source": [
    "type(dicionario)"
   ]
  }
 ],
 "metadata": {
  "kernelspec": {
   "display_name": "Python 3",
   "language": "python",
   "name": "python3"
  },
  "language_info": {
   "codemirror_mode": {
    "name": "ipython",
    "version": 3
   },
   "file_extension": ".py",
   "mimetype": "text/x-python",
   "name": "python",
   "nbconvert_exporter": "python",
   "pygments_lexer": "ipython3",
   "version": "3.7.1"
  }
 },
 "nbformat": 4,
 "nbformat_minor": 2
}
