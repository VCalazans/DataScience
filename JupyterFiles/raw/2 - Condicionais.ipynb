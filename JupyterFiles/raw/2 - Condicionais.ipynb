{
 "cells": [
  {
   "cell_type": "code",
   "execution_count": 6,
   "metadata": {},
   "outputs": [
    {
     "name": "stdout",
     "output_type": "stream",
     "text": [
      "Entrou no if\n"
     ]
    }
   ],
   "source": [
    "a = \"Entrou no if\"\n",
    "b = \"Não entrou no if\"\n",
    "\n",
    "isBool = \"true\"\n",
    "\n",
    "if(isBool == \"true\"):\n",
    "    print(a)\n",
    "else:\n",
    "    print(b)"
   ]
  },
  {
   "cell_type": "code",
   "execution_count": 7,
   "metadata": {},
   "outputs": [
    {
     "name": "stdout",
     "output_type": "stream",
     "text": [
      "Menor que 40 e menor que 10\n"
     ]
    }
   ],
   "source": [
    "num = 9\n",
    "if num > 40:\n",
    "    if num <= 50:\n",
    "        print(\"Menor que cinquenta\")\n",
    "    else:\n",
    "        print(\"Maior que cinquenta\")\n",
    "else:\n",
    "    if(num <= 40):\n",
    "        if(num >= 10):\n",
    "            print(\"Menor que 40 e maior que 10\")\n",
    "        else:\n",
    "            print(\"Menor que 40 e menor que 10\")\n",
    "    "
   ]
  }
 ],
 "metadata": {
  "kernelspec": {
   "display_name": "Python 3",
   "language": "python",
   "name": "python3"
  },
  "language_info": {
   "codemirror_mode": {
    "name": "ipython",
    "version": 3
   },
   "file_extension": ".py",
   "mimetype": "text/x-python",
   "name": "python",
   "nbconvert_exporter": "python",
   "pygments_lexer": "ipython3",
   "version": "3.7.1"
  }
 },
 "nbformat": 4,
 "nbformat_minor": 2
}
